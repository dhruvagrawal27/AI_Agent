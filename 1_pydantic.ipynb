{
 "cells": [
  {
   "cell_type": "code",
   "execution_count": 7,
   "metadata": {},
   "outputs": [],
   "source": [
    "import os\n",
    "from groq import Groq\n",
    "from dotenv import load_dotenv\n",
    "from itertools import chain\n",
    "\n",
    "from pydantic_ai import Agent\n",
    "from pydantic_ai.result import RunResult\n",
    "\n",
    "import nest_asyncio\n",
    "nest_asyncio.apply()\n",
    "\n"
   ]
  },
  {
   "cell_type": "code",
   "execution_count": 11,
   "metadata": {},
   "outputs": [],
   "source": [
    "# Load environment variables and initialize the language model\n",
    "load_dotenv()\n",
    "os.environ['GROQ_API_KEY'] = os.getenv('GROQ_API_KEY')\n",
    "os.environ['LOGFIRE_IGNORE_NO_CONFIG'] = '1'\n",
    "\n",
    "client = Groq(api_key=os.getenv('GROQ_API_KEY'))  # Initialize the Groq client\n",
    "model_name = \"mixtral-8x7b-32768\"\n",
    "\n",
    "def ask_groq(user_input: str):\n",
    "    response = client.chat.completions.create(\n",
    "        model=model_name,\n",
    "        messages=[{\"role\": \"system\", \"content\": \"You are a helpful AI assistant.\"},\n",
    "                  {\"role\": \"user\", \"content\": user_input}]\n",
    "    )\n",
    "    return response.choices[0].message.content\n",
    "\n",
    "\n"
   ]
  },
  {
   "cell_type": "code",
   "execution_count": 15,
   "metadata": {},
   "outputs": [],
   "source": [
    "store: dict[str, list[dict]] = {}\n",
    "\n",
    "def create_session_if_not_exists(session_id: str) -> None:\n",
    "    \"\"\"Ensures that `session_id` exists in the chat storage.\"\"\"\n",
    "    if session_id not in store:\n",
    "        store[session_id] = []\n",
    "\n",
    "def get_chat_history(session_id: str) -> list[dict]:\n",
    "    \"\"\"Returns the existing chat history.\"\"\"\n",
    "    create_session_if_not_exists(session_id)\n",
    "    return store[session_id]\n",
    "\n",
    "def store_messages_in_history(session_id: str, messages: list[dict]) -> None:\n",
    "    \"\"\"Stores new messages into the chat history.\"\"\"\n",
    "    create_session_if_not_exists(session_id)\n",
    "    store[session_id].extend(messages)"
   ]
  },
  {
   "cell_type": "code",
   "execution_count": 16,
   "metadata": {},
   "outputs": [],
   "source": [
    "\n",
    "def ask_with_history(user_message: str, user_session_id: str) -> str:\n",
    "    \"\"\"Asks the chatbot a question while maintaining chat history.\"\"\"\n",
    "    chat_history = get_chat_history(user_session_id)\n",
    "\n",
    "    # Convert stored messages to Groq API format\n",
    "    groq_messages = [{\"role\": \"system\", \"content\": \"You are a helpful AI assistant.\"}] + chat_history\n",
    "    groq_messages.append({\"role\": \"user\", \"content\": user_message})\n",
    "\n",
    "    response = client.chat.completions.create(\n",
    "        model=model_name,\n",
    "        messages=groq_messages\n",
    "    )\n",
    "\n",
    "    ai_response = response.choices[0].message.content  # Extract response text\n",
    "    store_messages_in_history(user_session_id, [{\"role\": \"user\", \"content\": user_message},\n",
    "                                                {\"role\": \"assistant\", \"content\": ai_response}])\n",
    "\n",
    "    return ai_response"
   ]
  },
  {
   "cell_type": "code",
   "execution_count": 17,
   "metadata": {},
   "outputs": [
    {
     "name": "stdout",
     "output_type": "stream",
     "text": [
      "AI: Hello! I'm an artificial intelligence, so I don't have feelings, but I'm here and ready to assist you. How can I help you today?\n"
     ]
    }
   ],
   "source": [
    "session_id = 'user_123'\n",
    "\n",
    "response1 = ask_with_history('Hello! How are you?', session_id)\n",
    "print('AI:', response1)"
   ]
  },
  {
   "cell_type": "code",
   "execution_count": 18,
   "metadata": {},
   "outputs": [
    {
     "name": "stdout",
     "output_type": "stream",
     "text": [
      "AI: Your previous message was: \"You are a helpful AI assistant. Hello! How are you?\" I am unable to retrieve messages that were sent before our current conversation began, but I am ready to help you with any questions or tasks you have now.\n"
     ]
    }
   ],
   "source": [
    "response2 = ask_with_history('What was my previous message?', session_id)\n",
    "print('AI:', response2)"
   ]
  },
  {
   "cell_type": "code",
   "execution_count": 19,
   "metadata": {},
   "outputs": [
    {
     "name": "stdout",
     "output_type": "stream",
     "text": [
      "\n",
      "Conversation History:\n",
      "user: Hello! How are you?\n",
      "assistant: Hello! I'm an artificial intelligence, so I don't have feelings, but I'm here and ready to assist you. How can I help you today?\n",
      "user: What was my previous message?\n",
      "assistant: Your previous message was: \"You are a helpful AI assistant. Hello! How are you?\" I am unable to retrieve messages that were sent before our current conversation began, but I am ready to help you with any questions or tasks you have now.\n"
     ]
    }
   ],
   "source": [
    "# Print the conversation history\n",
    "print('\\nConversation History:')\n",
    "for message in get_chat_history(session_id):\n",
    "    print(f'{message[\"role\"]}: {message[\"content\"]}')"
   ]
  }
 ],
 "metadata": {
  "kernelspec": {
   "display_name": ".venv",
   "language": "python",
   "name": "python3"
  },
  "language_info": {
   "codemirror_mode": {
    "name": "ipython",
    "version": 3
   },
   "file_extension": ".py",
   "mimetype": "text/x-python",
   "name": "python",
   "nbconvert_exporter": "python",
   "pygments_lexer": "ipython3",
   "version": "3.12.6"
  }
 },
 "nbformat": 4,
 "nbformat_minor": 4
}

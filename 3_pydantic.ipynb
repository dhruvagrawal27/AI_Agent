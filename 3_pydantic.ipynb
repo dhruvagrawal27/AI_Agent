{
 "cells": [
  {
   "cell_type": "code",
   "execution_count": 7,
   "metadata": {},
   "outputs": [],
   "source": [
    "import os\n",
    "import pandas as pd\n",
    "import numpy as np\n",
    "\n",
    "from dataclasses import dataclass\n",
    "from datetime import datetime, timedelta\n",
    "from dotenv import load_dotenv\n",
    "from typing import Any\n",
    "\n",
    "from groq import Groq\n",
    "from pydantic_ai import Agent, RunContext, ModelRetry\n",
    "from pydantic_ai.messages import ModelRequest, ModelMessagesTypeAdapter\n",
    "from pydantic_ai.result import RunResult\n",
    "\n",
    "import nest_asyncio\n",
    "nest_asyncio.apply()\n",
    "\n",
    "# Load environment\n",
    "load_dotenv()\n",
    "os.environ['GROQ_API_KEY'] = os.getenv('GROQ_API_KEY')  # Ensure your Groq API key is set\n",
    "os.environ['LOGFIRE_IGNORE_NO_CONFIG'] = '1'\n"
   ]
  },
  {
   "cell_type": "markdown",
   "metadata": {},
   "source": []
  },
  {
   "cell_type": "code",
   "execution_count": 8,
   "metadata": {},
   "outputs": [],
   "source": [
    "@dataclass\n",
    "class Deps:\n",
    "    \"\"\"The only dependency we need is the DataFrame we'll be working with.\"\"\"\n",
    "    df: pd.DataFrame"
   ]
  },
  {
   "cell_type": "code",
   "execution_count": 12,
   "metadata": {},
   "outputs": [],
   "source": [
    "# Initialize the Groq client\n",
    "client = Groq(api_key=os.getenv('GROQ_API_KEY'))\n",
    "model_name = 'mixtral-8x7b-32768'"
   ]
  },
  {
   "cell_type": "code",
   "execution_count": 16,
   "metadata": {},
   "outputs": [],
   "source": [
    "\n",
    "def ask_groq(user_input: str):\n",
    "    response = client.chat.completions.create(\n",
    "        model=model_name,\n",
    "        messages=[{\"role\": \"system\", \"content\": \"You are a helpful AI assistant.\"},\n",
    "                  {\"role\": \"user\", \"content\": user_input}]\n",
    "    )\n",
    "    return response.choices[0].message.content"
   ]
  },
  {
   "cell_type": "code",
   "execution_count": 17,
   "metadata": {},
   "outputs": [],
   "source": [
    "n_rows = 1000\n",
    "start_date = datetime(2022, 1, 1)\n",
    "dates = [start_date + timedelta(days=i) for i in range(n_rows)]\n",
    "makes = ['Toyota', 'Honda', 'Ford', 'Chevrolet', 'Nissan', 'BMW', 'Mercedes', 'Audi', 'Hyundai', 'Kia']\n",
    "models = ['Sedan', 'SUV', 'Truck', 'Hatchback', 'Coupe', 'Van']\n",
    "colors = ['Red', 'Blue', 'Black', 'White', 'Silver', 'Gray', 'Green']\n",
    "\n",
    "data = {\n",
    "    'Date': dates,\n",
    "    'Make': np.random.choice(makes, n_rows),\n",
    "    'Model': np.random.choice(models, n_rows),\n",
    "    'Color': np.random.choice(colors, n_rows),\n",
    "    'Year': np.random.randint(2015, 2023, n_rows),\n",
    "    'Price': np.random.uniform(20000, 80000, n_rows).round(2),\n",
    "    'Mileage': np.random.uniform(0, 100000, n_rows).round(0),\n",
    "    'EngineSize': np.random.choice([1.6, 2.0, 2.5, 3.0, 3.5, 4.0], n_rows),\n",
    "    'FuelEfficiency': np.random.uniform(20, 40, n_rows).round(1),\n",
    "    'SalesPerson': np.random.choice(['Alice', 'Bob', 'Charlie', 'David', 'Eva'], n_rows)\n",
    "}"
   ]
  },
  {
   "cell_type": "code",
   "execution_count": 18,
   "metadata": {},
   "outputs": [],
   "source": [
    "df = pd.DataFrame(data).sort_values('Date')\n"
   ]
  },
  {
   "cell_type": "code",
   "execution_count": 30,
   "metadata": {},
   "outputs": [],
   "source": [
    "def execute_code(code: str):\n",
    "    \"\"\"Executes AI-generated Python code and returns the result.\"\"\"\n",
    "    try:\n",
    "        result = eval(code, {\"df\": df, \"pd\": pd, \"np\": np})\n",
    "        return result\n",
    "    except Exception as e:\n",
    "        return f\"Error executing code `{code}`: {e}\""
   ]
  },
  {
   "cell_type": "code",
   "execution_count": 34,
   "metadata": {},
   "outputs": [],
   "source": [
    "def ask_agent(question):\n",
    "    \"\"\"Sends a question to the AI and executes the response if it's Python code.\"\"\"\n",
    "    system_message = f\"\"\"\n",
    "    You are an AI assistant that helps analyze a dataset. The dataset has the following columns: \n",
    "    {', '.join(df.columns)}\n",
    "\n",
    "    Example query formats:\n",
    "    - \"What is the average Price?\"\n",
    "    - \"Count the number of rows\"\n",
    "    - \"List all unique Makes\"\n",
    "\n",
    "    Answer questions only using valid Python/Pandas expressions, such as:\n",
    "    - df[\"Price\"].mean()\n",
    "    - len(df)\n",
    "    - df[\"Make\"].unique().tolist()\n",
    "    \"\"\"\n",
    "\n",
    "    full_prompt = f\"{system_message}\\nUser Question: {question}\"\n",
    "\n",
    "    print(f\"Question: {question}\")\n",
    "    response = ask_groq(full_prompt)\n",
    "    print(f\"AI Suggested Code: `{response}`\")\n",
    "\n",
    "    # Run the AI-generated Python code and print the actual result\n",
    "    executed_result = execute_code(response)\n",
    "    print(f\"Executed Answer: {executed_result}\\n---\")"
   ]
  },
  {
   "cell_type": "code",
   "execution_count": 35,
   "metadata": {},
   "outputs": [
    {
     "name": "stdout",
     "output_type": "stream",
     "text": [
      "Question: What are the column names in this dataset?\n",
      "AI Suggested Code: `df.columns.tolist()`\n",
      "Executed Answer: ['Date', 'Make', 'Model', 'Color', 'Year', 'Price', 'Mileage', 'EngineSize', 'FuelEfficiency', 'SalesPerson']\n",
      "---\n"
     ]
    }
   ],
   "source": [
    "ask_agent(\"What are the column names in this dataset?\")"
   ]
  },
  {
   "cell_type": "code",
   "execution_count": 36,
   "metadata": {},
   "outputs": [
    {
     "name": "stdout",
     "output_type": "stream",
     "text": [
      "Question: How many rows are in this dataset?\n",
      "AI Suggested Code: `len(df)`\n",
      "Executed Answer: 1000\n",
      "---\n"
     ]
    }
   ],
   "source": [
    "ask_agent(\"How many rows are in this dataset?\")"
   ]
  },
  {
   "cell_type": "code",
   "execution_count": 37,
   "metadata": {},
   "outputs": [
    {
     "name": "stdout",
     "output_type": "stream",
     "text": [
      "Question: List all unique car makes.\n",
      "AI Suggested Code: `df[\"Make\"].unique().tolist()`\n",
      "Executed Answer: ['BMW', 'Chevrolet', 'Hyundai', 'Honda', 'Audi', 'Kia', 'Mercedes', 'Ford', 'Nissan', 'Toyota']\n",
      "---\n"
     ]
    }
   ],
   "source": [
    "ask_agent(\"List all unique car makes.\")"
   ]
  },
  {
   "cell_type": "code",
   "execution_count": null,
   "metadata": {},
   "outputs": [],
   "source": []
  }
 ],
 "metadata": {
  "kernelspec": {
   "display_name": ".venv",
   "language": "python",
   "name": "python3"
  },
  "language_info": {
   "codemirror_mode": {
    "name": "ipython",
    "version": 3
   },
   "file_extension": ".py",
   "mimetype": "text/x-python",
   "name": "python",
   "nbconvert_exporter": "python",
   "pygments_lexer": "ipython3",
   "version": "3.12.6"
  }
 },
 "nbformat": 4,
 "nbformat_minor": 2
}
